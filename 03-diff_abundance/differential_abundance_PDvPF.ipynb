{
 "cells": [
  {
   "cell_type": "markdown",
   "id": "6d0a2614",
   "metadata": {},
   "source": [
    "### Differential abundance analyses"
   ]
  },
  {
   "cell_type": "markdown",
   "id": "d50981c8",
   "metadata": {},
   "source": [
    "#### 1. Load required libraries"
   ]
  },
  {
   "cell_type": "code",
   "execution_count": 1,
   "id": "d33998d6",
   "metadata": {},
   "outputs": [
    {
     "name": "stderr",
     "output_type": "stream",
     "text": [
      "Warning message:\n",
      "“package ‘ggplot2’ was built under R version 4.1.3”\n",
      "\n",
      "Attaching package: ‘BiocGenerics’\n",
      "\n",
      "\n",
      "The following object is masked from ‘package:limma’:\n",
      "\n",
      "    plotMA\n",
      "\n",
      "\n",
      "The following objects are masked from ‘package:stats’:\n",
      "\n",
      "    IQR, mad, sd, var, xtabs\n",
      "\n",
      "\n",
      "The following objects are masked from ‘package:base’:\n",
      "\n",
      "    anyDuplicated, append, as.data.frame, basename, cbind, colnames,\n",
      "    dirname, do.call, duplicated, eval, evalq, Filter, Find, get, grep,\n",
      "    grepl, intersect, is.unsorted, lapply, Map, mapply, match, mget,\n",
      "    order, paste, pmax, pmax.int, pmin, pmin.int, Position, rank,\n",
      "    rbind, Reduce, rownames, sapply, setdiff, sort, table, tapply,\n",
      "    union, unique, unsplit, which.max, which.min\n",
      "\n",
      "\n",
      "\n",
      "Attaching package: ‘S4Vectors’\n",
      "\n",
      "\n",
      "The following objects are masked from ‘package:base’:\n",
      "\n",
      "    expand.grid, I, unname\n",
      "\n",
      "\n",
      "Warning message:\n",
      "“package ‘matrixStats’ was built under R version 4.1.3”\n",
      "\n",
      "Attaching package: ‘MatrixGenerics’\n",
      "\n",
      "\n",
      "The following objects are masked from ‘package:matrixStats’:\n",
      "\n",
      "    colAlls, colAnyNAs, colAnys, colAvgsPerRowSet, colCollapse,\n",
      "    colCounts, colCummaxs, colCummins, colCumprods, colCumsums,\n",
      "    colDiffs, colIQRDiffs, colIQRs, colLogSumExps, colMadDiffs,\n",
      "    colMads, colMaxs, colMeans2, colMedians, colMins, colOrderStats,\n",
      "    colProds, colQuantiles, colRanges, colRanks, colSdDiffs, colSds,\n",
      "    colSums2, colTabulates, colVarDiffs, colVars, colWeightedMads,\n",
      "    colWeightedMeans, colWeightedMedians, colWeightedSds,\n",
      "    colWeightedVars, rowAlls, rowAnyNAs, rowAnys, rowAvgsPerColSet,\n",
      "    rowCollapse, rowCounts, rowCummaxs, rowCummins, rowCumprods,\n",
      "    rowCumsums, rowDiffs, rowIQRDiffs, rowIQRs, rowLogSumExps,\n",
      "    rowMadDiffs, rowMads, rowMaxs, rowMeans2, rowMedians, rowMins,\n",
      "    rowOrderStats, rowProds, rowQuantiles, rowRanges, rowRanks,\n",
      "    rowSdDiffs, rowSds, rowSums2, rowTabulates, rowVarDiffs, rowVars,\n",
      "    rowWeightedMads, rowWeightedMeans, rowWeightedMedians,\n",
      "    rowWeightedSds, rowWeightedVars\n",
      "\n",
      "\n",
      "Welcome to Bioconductor\n",
      "\n",
      "    Vignettes contain introductory material; view with\n",
      "    'browseVignettes()'. To cite Bioconductor, see\n",
      "    'citation(\"Biobase\")', and for packages 'citation(\"pkgname\")'.\n",
      "\n",
      "\n",
      "\n",
      "Attaching package: ‘Biobase’\n",
      "\n",
      "\n",
      "The following object is masked from ‘package:MatrixGenerics’:\n",
      "\n",
      "    rowMedians\n",
      "\n",
      "\n",
      "The following objects are masked from ‘package:matrixStats’:\n",
      "\n",
      "    anyMissing, rowMedians\n",
      "\n",
      "\n"
     ]
    }
   ],
   "source": [
    "# if (!require(\"BiocManager\", quietly = TRUE))\n",
    "#     install.packages(\"BiocManager\")\n",
    "\n",
    "# BiocManager::install(\"apeglm\")\n",
    "# install.packages(\"pheatmap\")\n",
    "library(pheatmap, warn.conflicts = F, quietly = T)\n",
    "library(ggplot2, warn.conflicts = F, quietly = T)\n",
    "library(limma, warn.conflicts = F, quietly = T)\n",
    "library(DESeq2, warn.conflicts = F, quietly = T)\n",
    "library(edgeR, warn.conflicts = F, quietly = T)\n",
    "library(Glimma, warn.conflicts = F, quietly = T)\n",
    "library(apeglm, warn.conflicts = F, quietly = T)"
   ]
  },
  {
   "cell_type": "markdown",
   "id": "abdd6947",
   "metadata": {},
   "source": [
    "#### 2. Load data"
   ]
  },
  {
   "cell_type": "code",
   "execution_count": 2,
   "id": "4a55c469",
   "metadata": {},
   "outputs": [],
   "source": [
    "# if you've already run deseq2 -- load environment\n",
    "# load(\".RData\")"
   ]
  },
  {
   "cell_type": "code",
   "execution_count": 3,
   "id": "4d3cdf1a",
   "metadata": {},
   "outputs": [],
   "source": [
    "metadata <- read.table(\"map.txt\", header=T, sep=\"\\t\")\n",
    "row.names(metadata) <- metadata$sample_id\n",
    "genecounts <- read.table(\"../02-STAR/homd_mapped/featurecounts/read_counts.txt\", header=T, sep=\"\\t\", row.names = 1)\n",
    "# fix sample names gene count file\n",
    "colnames(genecounts) <- gsub(x = names(genecounts), pattern = \"X\", replacement = \"UF\")  \n",
    "# head(metadata)\n",
    "# head(genecounts)"
   ]
  },
  {
   "cell_type": "markdown",
   "id": "b015e4c6",
   "metadata": {},
   "source": [
    "#### 3. Format for DESeq2 analysis"
   ]
  },
  {
   "cell_type": "code",
   "execution_count": 4,
   "id": "002c6bc6",
   "metadata": {},
   "outputs": [
    {
     "name": "stderr",
     "output_type": "stream",
     "text": [
      "Warning message in DESeqDataSet(se, design = design, ignoreRank):\n",
      "“some variables in design formula are characters, converting to factors”\n"
     ]
    },
    {
     "data": {
      "text/plain": [
       "class: DESeqDataSet \n",
       "dim: 816298 62 \n",
       "metadata(1): version\n",
       "assays(1): counts\n",
       "rownames(816298): SEQF1003_00001 SEQF1003_00002 ... SEQF3049_00252\n",
       "  SEQF3049_00253\n",
       "rowData names(0):\n",
       "colnames(62): UF102PFR UF106PFR ... UF87PFR UF8PF\n",
       "colData names(2): sample_id tooth_type"
      ]
     },
     "metadata": {},
     "output_type": "display_data"
    }
   ],
   "source": [
    "# only compare PD to PF\n",
    "metadata <- metadata[metadata$tooth_type != \"PE\",]\n",
    "# only keep columns found in metadata\n",
    "genecounts <- genecounts[, colnames(genecounts) %in% row.names(metadata)]\n",
    "# dim(genecounts)\n",
    "# create deseq object\n",
    "star_results <- DESeqDataSetFromMatrix(countData = genecounts, colData = metadata, design = ~tooth_type)\n",
    "# filter out any genes with fewer than 10 reads total\n",
    "star_results <- star_results[rowSums(counts(star_results)) >= 10,]\n",
    "star_results\n",
    "# set factor level (this determines which direction the comparisions are made -- by default it's by alphabetical order)\n",
    "star_results$tooth_type <- factor(star_results$tooth_type, levels=c(\"PD\", \"PF\"))"
   ]
  },
  {
   "cell_type": "markdown",
   "id": "77f92f7c",
   "metadata": {},
   "source": [
    "#### 4. Run DESeq2"
   ]
  },
  {
   "cell_type": "code",
   "execution_count": null,
   "id": "73c71936",
   "metadata": {},
   "outputs": [
    {
     "name": "stderr",
     "output_type": "stream",
     "text": [
      "estimating size factors\n",
      "\n",
      "estimating dispersions\n",
      "\n",
      "gene-wise dispersion estimates\n",
      "\n",
      "mean-dispersion relationship\n",
      "\n",
      "final dispersion estimates\n",
      "\n",
      "fitting model and testing\n",
      "\n"
     ]
    }
   ],
   "source": [
    "ptm <- proc.time()\n",
    "se_star <- DESeq(star_results)\n",
    "proc.time() - ptm # this takes about an hour to complete\n",
    "# compute normalized counts (log2 transformed); + 1 is a count added to avoid errors during the log2 transformation: log2(0) gives an infinite number, but log2(1) is 0.\n",
    "# normalized = TRUE: divide the counts by the size factors calculated by the DESeq function\n",
    "norm_counts <- log2(counts(se_star, normalized = TRUE)+1)"
   ]
  },
  {
   "cell_type": "code",
   "execution_count": null,
   "id": "d8e58c92",
   "metadata": {},
   "outputs": [],
   "source": [
    "# save.image()\n",
    "res <- results(se_star, alpha=0.01)\n",
    "# order by p value\n",
    "res <- res[order(res$padj),]\n",
    "paste(\"number of genes with adjusted p value lower than 0.01: \", sum(res$padj < 0.01, na.rm=TRUE))\n",
    "summary(res)"
   ]
  },
  {
   "cell_type": "code",
   "execution_count": null,
   "id": "eda01b06",
   "metadata": {},
   "outputs": [],
   "source": [
    "resultsNames(se_star)"
   ]
  },
  {
   "cell_type": "code",
   "execution_count": null,
   "id": "f6c7f89d",
   "metadata": {},
   "outputs": [],
   "source": [
    "# filter out low count genes\n",
    "resLFC <- lfcShrink(se_star, coef=\"tooth_type_PF_vs_PD\", type=\"apeglm\")\n",
    "resLFC <- resLFC[order(resLFC$padj),]\n",
    "paste(\"number of genes with adjusted p value lower than 0.01: \", sum(resLFC$padj < 0.01, na.rm=TRUE))\n",
    "summary(resLFC)\n",
    "# write results to file\n",
    "write.table(resLFC, file=\"deseq_results.txt\", quote=F, sep=\"\\t\")"
   ]
  },
  {
   "cell_type": "code",
   "execution_count": null,
   "id": "fa6e3a25",
   "metadata": {},
   "outputs": [],
   "source": [
    "plotMA(res, ylim=c(-5,5))\n",
    "plotMA(resLFC, ylim=c(-5,5))"
   ]
  },
  {
   "cell_type": "code",
   "execution_count": null,
   "id": "c3451701",
   "metadata": {},
   "outputs": [],
   "source": [
    "# transform for visualizations\n",
    "vld <- vst(se_star)"
   ]
  },
  {
   "cell_type": "code",
   "execution_count": null,
   "id": "b55bc42e",
   "metadata": {},
   "outputs": [],
   "source": [
    "#Get 25 top varying genes\n",
    "topVarGenes <- head(order(rowVars(assay(vld)), decreasing=TRUE), 25)\n",
    " \n",
    "#make a subset of the log transformed counts for just the top 25 varying genes\n",
    "top25Counts <- assay(vld)[topVarGenes,]\n",
    "write.csv(top25Counts, file=\"top25counts.vld.csv\", quote=FALSE)\n",
    " \n",
    "#PLOT PCA\n",
    "#PCA using top 500 varying genes\n",
    "pdf(\"pca_pdvpf.pdf\")\n",
    "plotPCA(vld, intgroup=c(\"tooth_type\"), ntop=500) + theme_minimal()\n",
    "dev.off()\n",
    "plotPCA(vld, intgroup=c(\"tooth_type\"), ntop=500) + theme_minimal()"
   ]
  },
  {
   "cell_type": "code",
   "execution_count": null,
   "id": "de49b446",
   "metadata": {},
   "outputs": [],
   "source": [
    "# will have to change sample_id to something more meaningful in final run\n",
    "df <- as.data.frame(colData(vld)[,c(\"sample_id\",\"tooth_type\")])\n",
    "pdf(\"heatmap_pdvpf.pdf\")\n",
    "pheatmap(top25Counts, annotation_col = df)\n",
    "dev.off()\n",
    "pheatmap(top25Counts, annotation_col = df)"
   ]
  }
 ],
 "metadata": {
  "kernelspec": {
   "display_name": "R",
   "language": "R",
   "name": "ir"
  },
  "language_info": {
   "codemirror_mode": "r",
   "file_extension": ".r",
   "mimetype": "text/x-r-source",
   "name": "R",
   "pygments_lexer": "r",
   "version": "4.1.2"
  }
 },
 "nbformat": 4,
 "nbformat_minor": 5
}
