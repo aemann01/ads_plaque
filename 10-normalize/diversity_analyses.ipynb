{
 "cells": [
  {
   "cell_type": "code",
   "execution_count": null,
   "id": "e8e7df31",
   "metadata": {},
   "outputs": [
    {
     "name": "stderr",
     "output_type": "stream",
     "text": [
      "'getOption(\"repos\")' replaces Bioconductor standard repositories, see\n",
      "'help(\"repositories\", package = \"BiocManager\")' for details.\n",
      "Replacement repositories:\n",
      "    CRAN: https://cran.r-project.org\n",
      "\n",
      "Bioconductor version 3.14 (BiocManager 1.30.20), R 4.1.0 (2021-05-18)\n",
      "\n",
      "Installing package(s) 'philr'\n",
      "\n",
      "also installing the dependencies ‘gridGraphics’, ‘cachem’, ‘vctrs’, ‘stringi’, ‘ggplotify’, ‘patchwork’, ‘memoise’, ‘lazyeval’, ‘fastmatch’, ‘generics’, ‘igraph’, ‘quadprog’, ‘dplyr’, ‘purrr’, ‘stringr’, ‘tibble’, ‘tidyselect’, ‘isoband’, ‘mgcv’, ‘aplot’, ‘ggfun’, ‘yulab.utils’, ‘tidytree’, ‘treeio’, ‘ape’, ‘phangorn’, ‘tidyr’, ‘ggplot2’, ‘ggtree’\n",
      "\n",
      "\n",
      "Warning message in install.packages(...):\n",
      "“installation of package ‘stringi’ had non-zero exit status”\n"
     ]
    }
   ],
   "source": [
    "BiocManager::install(\"philr\")\n",
    "BiocManager::install(\"phyloseq\")\n",
    "BiocManager::install(\"microbiome\")\n",
    "install.packages(\"RColorBrewer\")\n",
    "install.packages(\"UpSetR\")\n",
    "install.packages(\"ggfortify\")\n",
    "install.packages(\"randomForest\")\n",
    "install.packages(\"rfUtilities\")\n",
    "install.packages(\"phytools\")\n",
    "install.packages(\"gridExtra\")\n",
    "install.packages(\"remotes\")\n",
    "install.packages('devtools')\n",
    "install.packages(\"intergraph\")\n",
    "devtools::install_github('reptalex/phylofactor')\n",
    "devtools::install_github(\"briatte/ggnet\")\n",
    "remotes::install_github(\"vmikk/metagMisc\")\n",
    "remotes::install_github(\"pmartinezarbizu/pairwiseAdonis/pairwiseAdonis\")\n",
    "remotes::install_github(\"gauravsk/ranacapa\")\n",
    "install.packages(\"ggdendro\")"
   ]
  },
  {
   "cell_type": "code",
   "execution_count": null,
   "id": "f03a642c",
   "metadata": {},
   "outputs": [],
   "source": [
    "library(philr, warn.conflicts = F, quietly = T)\n",
    "library(RColorBrewer, warn.conflicts = F, quietly = T)\n",
    "library(UpSetR, warn.conflicts = F, quietly = T)\n",
    "library(ggfortify, warn.conflicts = F, quietly = T)\n",
    "library(randomForest, warn.conflicts = F, quietly = T)\n",
    "library(rfUtilities, warn.conflicts = F, quietly = T)\n",
    "library(phytools, warn.conflicts = F, quietly = T)\n",
    "library(phyloseq, warn.conflicts = F, quietly = T)\n",
    "library(gridExtra, warn.conflicts = F, quietly = T)\n",
    "library(microbiome, warn.conflicts = F, quietly = T)\n",
    "library(phylofactor, warn.conflicts = F, quietly = T)\n",
    "library(dplyr, warn.conflicts = F, quietly = T)\n",
    "library(pairwiseAdonis, warn.conflicts = F, quietly = T)\n",
    "library(ape, warn.conflicts = F, quietly = T)\n",
    "library(metagMisc, warn.conflicts = F, quietly = T)\n",
    "library(ranacapa, warn.conflicts = F, quietly = T)\n",
    "library(MASS, warn.conflicts = F, quietly = T)\n",
    "library(ggdendro, warn.conflicts = F, quietly = T)"
   ]
  },
  {
   "cell_type": "code",
   "execution_count": null,
   "id": "0567dbd3",
   "metadata": {},
   "outputs": [],
   "source": [
    "sessionInfo()"
   ]
  },
  {
   "cell_type": "code",
   "execution_count": null,
   "id": "f225eef2",
   "metadata": {},
   "outputs": [],
   "source": [
    "seqtab <- read.table(\"../04-rpoC_processing/sequence_table.merged.txt\", header=T, row.names=1)\n",
    "tax <- read.table(\"taxonomy_bac.txt\", header=F, row.names=1, sep=\"\\t\")\n",
    "tree <- read.tree(\"RAxML_bestTree.ref.tre\")\n",
    "tree.root <- midpoint.root(tree)"
   ]
  },
  {
   "cell_type": "code",
   "execution_count": null,
   "id": "e1ae08ca",
   "metadata": {},
   "outputs": [],
   "source": [
    "map <- read.table(\"../03-diff_abundance/map.txt\", sep=\"\\t\", header=T, row.names=1)\n",
    "notinmeta <- setdiff(colnames(seqtab), row.names(map))\n",
    "notinraw <- setdiff(row.names(map), colnames(seqtab))\n",
    "print(\"Samples found in ASV table but not in metadata:\")\n",
    "notinmeta\n",
    "print(\"Samples found in metadata but not in sequencing table:\")\n",
    "notinraw"
   ]
  },
  {
   "cell_type": "code",
   "execution_count": null,
   "id": "4c2f742c",
   "metadata": {},
   "outputs": [],
   "source": [
    "ps.dat <- phyloseq(otu_table(seqtab, taxa_are_rows=T), sample_data(map), tax_table(as.matrix(tax)), tree.root)\n",
    "ps.dat"
   ]
  },
  {
   "cell_type": "code",
   "execution_count": null,
   "id": "9c8c23f6",
   "metadata": {},
   "outputs": [],
   "source": [
    "# compute prevalence dataframe\n",
    "prevdf <- apply(X=otu_table(ps.dat), MARGIN=ifelse(taxa_are_rows(ps.dat), yes=1, no=2), FUN=function(x){sum(x>0)})\n",
    "# add taxa and total read counts to dataframe\n",
    "prevdf <- data.frame(Prevalence=prevdf, TotalAbundance=taxa_sums(ps.dat), tax_table(ps.dat))\n",
    "# which phyla are comprised as mostly low prevalence ASVs?\n",
    "lowprev <- ggplot(prevdf, aes(TotalAbundance, Prevalence, nsamples(ps.dat), color=\"V4\")) + geom_hline(yintercept=0.05, alpha=0.5, linetype=2) + geom_point(size=2, alpha=0.7) + scale_x_log10() + xlab(\"Total Abundance\") + ylab(\"Prevalence [Frac. Samples]\") + facet_wrap(~V4) + theme(legend.position=\"none\")\n",
    "lowprev\n",
    "pdf(\"totalabund_vs_prevalence.pdf\")\n",
    "lowprev\n",
    "dev.off()\n",
    "# kept asvs must be found in at least 1% of all samples \n",
    "ps.dat <- phyloseq_filter_prevalence(ps.dat, prev.trh=0.01)\n",
    "ps.dat"
   ]
  },
  {
   "cell_type": "code",
   "execution_count": null,
   "id": "f22aa25c",
   "metadata": {},
   "outputs": [],
   "source": [
    "# filter out samples with fewer than 1000 reads (based on ASV rareness, this shouldn't be an issue)\n",
    "ps.dat <- prune_samples(sample_sums(ps.dat) > 1000, ps.dat)\n",
    "ps.dat"
   ]
  },
  {
   "cell_type": "code",
   "execution_count": null,
   "id": "fa0ee0ab",
   "metadata": {},
   "outputs": [],
   "source": [
    "# write filtered tables to file\n",
    "write.table(as.data.frame(otu_table(ps.dat)), \"sequence_table.filt.txt\", sep=\"\\t\", row.names=T, col.names=T)\n",
    "# write filtered taxonomy to file\n",
    "write.table(as.data.frame(tax_table(ps.dat)), \"taxonomy_bac.filt.txt\", sep=\"\\t\", row.names=T, col.names=T)\n",
    "# filtered metadata\n",
    "write.table(as.data.frame(sample_data(ps.dat)), \"map.filt.txt\", sep=\"\\t\", row.names=T, col.names=T)"
   ]
  },
  {
   "cell_type": "code",
   "execution_count": null,
   "id": "eb6e42c3",
   "metadata": {},
   "outputs": [],
   "source": [
    "# top phyla across samples (relative abundance data)\n",
    "rel.abund <- transform_sample_counts(ps.dat, function(x) x/sum(x)) # get relative abundance\n",
    "glom <- tax_glom(rel.abund, taxrank=rank_names(rel.abund)[3]) # collapse \n",
    "data <- psmelt(glom) # create dataframe from phyloseq object\n",
    "data$V4 <- as.character(data$V4) # convert to character\n",
    "data$V4[data$Abundance < 0.01] <- \"< 1% abund\" # rename low freq phyla\n",
    "medians <- plyr::ddply(data, ~V4, function(x) c(median=median(x$Abundance)))\n",
    "medians"
   ]
  },
  {
   "cell_type": "code",
   "execution_count": null,
   "id": "be2c278d",
   "metadata": {},
   "outputs": [],
   "source": [
    "# most common genera\n",
    "glom <- tax_glom(rel.abund, taxrank=rank_names(rel.abund)[8]) # collapse \n",
    "data <- psmelt(glom) # create dataframe from phyloseq object\n",
    "data$V8 <- as.character(data$V8) # convert to character\n",
    "data$V8[data$Abundance < 0.20] <- \"< 20% abund\" # rename low freq phyla\n",
    "medians <- plyr::ddply(data, ~V8, function(x) c(median=median(x$Abundance)))\n",
    "medians"
   ]
  },
  {
   "cell_type": "code",
   "execution_count": null,
   "id": "1a04c363",
   "metadata": {},
   "outputs": [],
   "source": [
    "# phylum level figures\n",
    "system(\"mkdir img\")\n",
    "data$Sample <- factor(data$Sample, levels=unique(data$Sample))\n",
    "# plot by sample\n",
    "taxbarsamp <- ggplot(data, aes(x=Sample, y=Abundance, fill=V4)) + geom_bar(aes(), stat=\"identity\", position=\"stack\") + theme_minimal() + theme(axis.text.x = element_text(angle = 90))\n",
    "taxbarsamp\n",
    "pdf(\"img/taxonomy_barchart.pdf\")\n",
    "taxbarsamp\n",
    "dev.off()\n",
    "# phyloseq group by tooth type\n",
    "taxbargrp <- plot_bar(rel.abund, \"V4\", fill=\"V4\", facet_grid=\"tooth_type\") + geom_bar(aes(color=V4, fill=V4), stat=\"identity\", position=\"stack\")\n",
    "taxbargrp + theme_minimal() + theme(axis.text.x = element_text(angle = 90, vjust = 0.5, hjust=1))\n",
    "pdf(\"img/tax_bar.tooth_type_by_sample.pdf\")\n",
    "taxbargrp\n",
    "dev.off()"
   ]
  },
  {
   "cell_type": "code",
   "execution_count": null,
   "id": "4b703d63",
   "metadata": {
    "scrolled": false
   },
   "outputs": [],
   "source": [
    "# only including PD and PF samples for now\n",
    "ps.dat <- subset_samples(ps.dat, tooth_type !=\"PE\")\n",
    "# distance based redundancy analysis\n",
    "sample_data(ps.dat)$ads_nmol_min_mg_of_protein <- as.integer(sample_data(ps.dat)$ads_nmol_min_mg_of_protein)\n",
    "sample_data(ps.dat)$log2_ads <- log2(sample_data(ps.dat)$ads_nmol_min_mg_of_protein)\n",
    "\n",
    "ordcap <- ordinate(ps.dat, \"CAP\", \"bray\", ~ tooth_type + log2_ads)\n",
    "# add dummy variable to sample data as plot_ordination cannot handle only one metadata column\n",
    "sample_data(ps.dat)[ , 2] <- sample_data(ps.dat)[ ,1]\n",
    "mid <- median(sample_data(ps.dat)$log2_ads)\n",
    "pdf(\"img/capscale_plt.tooth_type.pdf\") \n",
    "plot_ordination(ps.dat, ordcap, color=\"log2_ads\", shape=\"tooth_type\") + theme_minimal() + geom_point(size=4) + scale_color_gradient2(midpoint=mid, low=\"#91bfdb\", mid=\"#ffffbf\", high=\"#fc8d59\")\n",
    "dev.off()\n",
    "plot_ordination(ps.dat, ordcap, color=\"log2_ads\", shape=\"tooth_type\") + theme_minimal() + geom_point(size=4) + scale_color_gradient2(midpoint=mid, low=\"#91bfdb\", mid=\"#ffffbf\", high=\"#fc8d59\")"
   ]
  },
  {
   "cell_type": "code",
   "execution_count": null,
   "id": "a5ab4c5c",
   "metadata": {},
   "outputs": [],
   "source": [
    "# map labels to get sample position\n",
    "plot_ordination(ps.dat, ordcap, shape=\"tooth_type\", label = \"novaseq_id\") + \n",
    "    geom_text(mapping = aes(label = novaseq_id), size = 5, vjust = 1.5) + \n",
    "    theme(text = element_text(size = 10)) +\n",
    "    scale_color_gradient2(midpoint=mid, low=\"#91bfdb\", mid=\"#ffffbf\", high=\"#fc8d59\") + geom_point(size=2)"
   ]
  },
  {
   "cell_type": "code",
   "execution_count": null,
   "id": "31150688",
   "metadata": {},
   "outputs": [],
   "source": [
    "head(sample_data(ps.dat))\n",
    "\n",
    "plot_ordination(ps.dat, ordcap, shape=\"Smutans_cat\", label = \"novaseq_id\") + \n",
    "    geom_text(mapping = aes(label = novaseq_id), size = 1, vjust = 1.5) + \n",
    "    theme(text = element_text(size = 10)) +\n",
    "    scale_color_gradient2(midpoint=mid, low=\"#91bfdb\", mid=\"#ffffbf\", high=\"#fc8d59\") + geom_point(size = 5)"
   ]
  },
  {
   "cell_type": "code",
   "execution_count": null,
   "id": "6a96c45e",
   "metadata": {},
   "outputs": [],
   "source": [
    "\n",
    "ordcap <- ordinate(ps.dat, \"PCoA\", \"wunifrac\", ~ tooth_type + log2_ads)\n",
    "plot_ordination(ps.dat, ordcap, type = \"split\", shape=\"tooth_type\", label = \"novaseq_id\", color = \"V3\") + \n",
    "    theme(text = element_text(size = 10)) + ylim(0.5,-0.5) + xlim(0.25,-0.25)"
   ]
  },
  {
   "cell_type": "code",
   "execution_count": null,
   "id": "acc85493",
   "metadata": {},
   "outputs": [],
   "source": [
    "# what's going on with top and bottom PD and PF?\n",
    "write.table(sample_data(ps.dat), \"map.txt\", quote = F, sep = \"\\t\")"
   ]
  },
  {
   "cell_type": "code",
   "execution_count": null,
   "id": "e38b46cb",
   "metadata": {},
   "outputs": [],
   "source": [
    "# is the difference between the amount of arginine detected significant between tooth groups?\n",
    "wilcox.test(sample_data(ps.dat)[sample_data(ps.dat)$tooth_type == \"PD\",]$log2_ads, sample_data(ps.dat)[sample_data(ps.dat)$tooth_type == \"PF\",]$log2_ads)"
   ]
  },
  {
   "cell_type": "code",
   "execution_count": null,
   "id": "a8293ffc",
   "metadata": {},
   "outputs": [],
   "source": [
    "# what is up with low PF and high PD samples re: citrulline assay?\n",
    "# samples are: UF49PF, UF33PF, UF40PFR, UF36PF, UF68PD\n",
    "# sample_data(ps.dat)\n",
    "x <- c(\"UF48PF\", \"UF33PF\", \"UF40PFR\", \"UF36PF\", \"UF68PD\")\n",
    "subset_lowhi_log2ADS <- phyloseq::prune_samples(x, ps.dat)\n",
    "sample_data(subset_lowhi_log2ADS)\n",
    "# do they have the taxa we are associating with ADS activity?\n",
    "subset_lowhi_log2ADS_strep <- subset_taxa(subset_lowhi_log2ADS, V9==\"Streptococcus_sanguinis\" | V9==\"Streptococcus_parasanguinis\" | V9==\"Streptococcus_oralis\" | V9==\"Limosilactobacillus_fermentum\" | V9==\"Leptotrichia_sp._oral_taxon_212\")\n",
    "glom <- tax_glom(subset_lowhi_log2ADS_strep, taxrank=rank_names(subset_lowhi_log2ADS_strep)[8])\n",
    "# # what is proportion of species tagged in volcano plot in pd vs pf?\n",
    "taxbargrp <- plot_bar(glom, \"V9\", fill=\"V9\", facet_grid=\"tooth_type\") + geom_bar(aes(color=V9, fill=V9), stat=\"identity\", position=\"stack\")\n",
    "taxbargrp + theme_minimal() + theme(axis.text.x = element_text(angle = 90, vjust = 0.5, hjust=1))\n",
    "# by sample\n",
    "taxbargrp <- plot_bar(glom, \"V9\", fill=\"V9\", facet_grid=\"novaseq_id\") + geom_bar(aes(color=V9, fill=V9), stat=\"identity\", position=\"stack\")\n",
    "taxbargrp + theme_minimal() + theme(axis.text.x = element_text(angle = 90, vjust = 0.5, hjust=1))\n",
    "pdf(\"lowhi_ADS_prop_species.pdf\")\n",
    "taxbargrp + theme_minimal() + theme(axis.text.x = element_text(angle = 90, vjust = 0.5, hjust=1))\n",
    "dev.off()"
   ]
  },
  {
   "cell_type": "code",
   "execution_count": null,
   "id": "742f1d63",
   "metadata": {},
   "outputs": [],
   "source": [
    "# with all six bacteria upregulated in disease\n",
    "# do they have the taxa we are associating with ADS activity?\n",
    "subset_lowhi_log2ADS_strep <- subset_taxa(subset_lowhi_log2ADS, V9==\"Streptococcus_sanguinis\" | V9==\"Streptococcus_oralis\" | V10==\"Streptococcus_sp._oral_taxon_056\" | V9==\"Leptotrichia_sp._oral_taxon_212\" | V9==\"Leptotrichia_sp._oral_taxon_215\" | V9==\"Streptococcus_parasanguinis\" | V10==\"Streptococcus_intermedius\" | V9==\"Limosilactobacillus_fermentum\" |  V9==\"Parvimonas_micra\" | V9==\"Cryptobacterium_curtum\")\n",
    "glom <- tax_glom(subset_lowhi_log2ADS_strep, taxrank=rank_names(subset_lowhi_log2ADS_strep)[8])\n",
    "# # what is proportion of species tagged in volcano plot in pd vs pf?\n",
    "taxbargrp <- plot_bar(glom, \"V9\", facet_grid=\"tooth_type\") + geom_bar(aes(color=V9, fill=V9), stat=\"identity\", position=\"stack\")\n",
    "taxbargrp + theme_minimal() + theme(axis.text.x = element_text(angle = 90, vjust = 0.5, hjust=1))"
   ]
  },
  {
   "cell_type": "code",
   "execution_count": null,
   "id": "add1f2dc",
   "metadata": {},
   "outputs": [],
   "source": [
    "# by sample\n",
    "otu_table(glom)\n",
    "taxbargrp <- plot_bar(glom, \"V9\", facet_grid=\"novaseq_id\") + geom_bar(aes(), stat=\"identity\", position=\"stack\")\n",
    "taxbargrp + theme_minimal() + theme(axis.text.x = element_text(angle = 90, vjust = 0.5, hjust=1))\n",
    "pdf(\"citrulline_oddballs_allspecies.pdf\")\n",
    "taxbargrp + theme_minimal() + theme(axis.text.x = element_text(angle = 90, vjust = 0.5, hjust=1))\n",
    "dev.off()"
   ]
  },
  {
   "cell_type": "code",
   "execution_count": null,
   "id": "0771453b",
   "metadata": {},
   "outputs": [],
   "source": [
    "# also want to know the proportion of S mutans and P acidifaciens across PD samples. Are there some that are dominanted by one or the other?\n",
    "sub <- subset_taxa(ps.dat, V9==\"Streptococcus_mutans\" | V9==\"Propionibacterium_acidifaciens\")\n",
    "glom <- tax_glom(sub, taxrank=rank_names(sub)[8])\n",
    "# by sample\n",
    "taxbargrp <- plot_bar(glom, \"novaseq_id\", fill=\"V9\", facet_grid=\"V9\") + geom_bar(aes(color=V9, fill=V9), stat=\"identity\", position=\"stack\") + facet_wrap(~tooth_type, ncol=1)\n",
    "taxbargrp + theme_minimal() + theme(axis.text.x = element_text(angle = 90, vjust = 0.5, hjust=1)) \n",
    "pdf(\"prop_smutans_pacidifaciens.pdf\")\n",
    "taxbargrp + theme_minimal() + theme(axis.text.x = element_text(angle = 90, vjust = 0.5, hjust=1))\n",
    "dev.off()"
   ]
  },
  {
   "cell_type": "code",
   "execution_count": null,
   "id": "8a2e60d9",
   "metadata": {},
   "outputs": [],
   "source": [
    "# philr transform data and distance matrix to perform permanova statistics\n",
    "philr.dat <- transform_sample_counts(ps.dat, function(x) x+1) # add pseudocount of one to ASVs to avoid log-ratios calculated from zero\n",
    "is.rooted(phy_tree(philr.dat)) # check that tree is rooted\n",
    "is.binary(phy_tree(philr.dat)) #check that multichotomies are resolved in tree\n",
    "phy_tree(philr.dat) <- makeNodeLabel(phy_tree(philr.dat), method=\"number\", prefix=\"n\")                                    \n",
    "asv.table <- otu_table(philr.dat)\n",
    "tree <- phy_tree(philr.dat)\n",
    "metadata <- sample_data(philr.dat)\n",
    "tax <- tax_table(philr.dat)\n",
    "philr.t <- philr(t(asv.table), tree, part.weights=\"enorm.x.gm.counts\", ilr.weights=\"blw.sqrt\")\n",
    "# distance matrix\n",
    "philr.dist <- dist(philr.t, method=\"euclidean\")"
   ]
  },
  {
   "cell_type": "code",
   "execution_count": null,
   "id": "412fbe20",
   "metadata": {},
   "outputs": [],
   "source": [
    "# permanova test\n",
    "metadata <- as(sample_data(philr.dat), \"data.frame\")\n",
    "adonis2(philr.dist ~ tooth_type, data=metadata)"
   ]
  },
  {
   "cell_type": "code",
   "execution_count": null,
   "id": "d644dc37",
   "metadata": {},
   "outputs": [],
   "source": [
    "# marginal effect of ads amount after controlling for tooth type\n",
    "adonis2(philr.dist ~ tooth_type + log2_ads, data=metadata)"
   ]
  },
  {
   "cell_type": "code",
   "execution_count": null,
   "id": "c76b5ca2",
   "metadata": {},
   "outputs": [],
   "source": [
    "# beta dispersion test\n",
    "dispr <- vegan::betadisper(philr.dist, phyloseq::sample_data(philr.dat)$tooth_type)\n",
    "dispr\n",
    "permutest(dispr)\n",
    "boxplot(dispr)"
   ]
  },
  {
   "cell_type": "code",
   "execution_count": null,
   "id": "2330a235",
   "metadata": {},
   "outputs": [],
   "source": [
    "# alpha diversity\n",
    "pdf(\"img/alpha_div.tooth_type.pdf\")\n",
    "plot_richness(ps.dat, measures=c(\"Observed\", \"Shannon\"), x=\"tooth_type\") + geom_boxplot() + theme_minimal() + geom_jitter()\n",
    "dev.off()\n",
    "plot_richness(ps.dat, measures=c(\"Observed\", \"Shannon\"), x=\"tooth_type\") + geom_boxplot() + theme_minimal() + geom_jitter()"
   ]
  },
  {
   "cell_type": "code",
   "execution_count": null,
   "id": "e032c6dc",
   "metadata": {},
   "outputs": [],
   "source": [
    "# install.packages(\"ggdist\")\n",
    "library(ggdist)\n",
    "temp <- estimate_richness(subset_samples(ps.dat, tooth_type == \"PD\"))\n",
    "temp$tooth_type <- \"PD\"\n",
    "temp1 <- estimate_richness(subset_samples(ps.dat, tooth_type == \"PF\"))\n",
    "temp1$tooth_type <- \"PF\"\n",
    "alpha2 <- bind_rows(temp, temp1)\n",
    "\n",
    "# raincloud plot\n",
    "p <- ggplot(alpha2, aes(x = tooth_type, y = Shannon)) + \n",
    "  ggdist::stat_halfeye(\n",
    "    adjust = .5, \n",
    "    width = .6, \n",
    "    .width = 0, \n",
    "    justification = -.3, \n",
    "    point_colour = NA) + \n",
    "  geom_boxplot(\n",
    "    width = .25, \n",
    "    outlier.shape = NA\n",
    "  ) +\n",
    "  geom_point(\n",
    "    size = 1.3,\n",
    "    alpha = .5,\n",
    "    position = position_jitter(\n",
    "      seed = 1, width = .1\n",
    "    )\n",
    "  ) + \n",
    "    theme_minimal() +\n",
    "  coord_cartesian(xlim = c(1.3, NA))\n",
    "p\n",
    "pdf(\"alphdiv_raincloud.pdf\")\n",
    "p\n",
    "dev.off()"
   ]
  },
  {
   "cell_type": "code",
   "execution_count": null,
   "id": "be380f80",
   "metadata": {
    "scrolled": false
   },
   "outputs": [],
   "source": [
    "# significance tests\n",
    "wilcox.test(estimate_richness(subset_samples(ps.dat, tooth_type == \"PD\"))$Observed, estimate_richness(subset_samples(ps.dat, tooth_type == \"PF\"))$Observed)\n",
    "wilcox.test(estimate_richness(subset_samples(ps.dat, tooth_type == \"PD\"))$Shannon, estimate_richness(subset_samples(ps.dat, tooth_type == \"PF\"))$Shannon)"
   ]
  },
  {
   "cell_type": "code",
   "execution_count": null,
   "id": "cfb0ac14",
   "metadata": {},
   "outputs": [],
   "source": [
    "# proportion of different types of strep in pd vs pf\n",
    "strep <- subset_taxa(ps.dat, V9==\"Streptococcus_sanguinis\")\n",
    "glom <- tax_glom(strep, taxrank=rank_names(strep)[8])\n",
    "data <- psmelt(glom) # create dataframe from phyloseq object\n",
    "data$Sample <- factor(data$Sample, levels=unique(data$Sample))\n",
    "# plot\n",
    "ggplot(data, aes(x=log2(Abundance), y=log2_ads, color=tooth_type)) + \n",
    "    geom_point() + \n",
    "    theme_minimal() + \n",
    "    geom_smooth(method=lm, se=FALSE, fullrange=TRUE) +\n",
    "    geom_rug()\n",
    "geom_rug(sides =\"bl\")"
   ]
  },
  {
   "cell_type": "code",
   "execution_count": null,
   "id": "0a109d9e",
   "metadata": {},
   "outputs": [],
   "source": [
    "# proportion of different types of strep in pd vs pf\n",
    "strep <- subset_taxa(ps.dat, V9==\"Streptococcus_parasanguinis\")\n",
    "glom <- tax_glom(strep, taxrank=rank_names(strep)[8])\n",
    "data <- psmelt(glom) # create dataframe from phyloseq object\n",
    "data$Sample <- factor(data$Sample, levels=unique(data$Sample))\n",
    "# plot\n",
    "ggplot(data, aes(x=log2(Abundance), y=log2_ads, color=tooth_type)) + \n",
    "    geom_point() + \n",
    "    theme_minimal() + \n",
    "    geom_smooth(method=lm, se=FALSE, fullrange=TRUE) +\n",
    "    geom_rug()\n",
    "geom_rug(sides =\"bl\")"
   ]
  },
  {
   "cell_type": "code",
   "execution_count": null,
   "id": "0b1461e6",
   "metadata": {},
   "outputs": [],
   "source": [
    "# proportion of different types of strep in pd vs pf\n",
    "strep <- subset_taxa(ps.dat, V9==\"Streptococcus_oralis\")\n",
    "glom <- tax_glom(strep, taxrank=rank_names(strep)[8])\n",
    "data <- psmelt(glom) # create dataframe from phyloseq object\n",
    "data$Sample <- factor(data$Sample, levels=unique(data$Sample))\n",
    "# plot\n",
    "ggplot(data, aes(x=log2(Abundance), y=log2_ads, color=tooth_type)) + \n",
    "    geom_point() + \n",
    "    theme_minimal() + \n",
    "    geom_smooth(method=lm, se=FALSE, fullrange=TRUE) +\n",
    "    geom_rug()\n",
    "geom_rug(sides =\"bl\")"
   ]
  },
  {
   "cell_type": "code",
   "execution_count": null,
   "id": "9f49bcd1",
   "metadata": {},
   "outputs": [],
   "source": [
    "# proportion of different types of strep in pd vs pf\n",
    "strep <- subset_taxa(ps.dat, V9==\"Streptococcus_gordonii\")\n",
    "glom <- tax_glom(strep, taxrank=rank_names(strep)[8])\n",
    "data <- psmelt(glom) # create dataframe from phyloseq object\n",
    "data$Sample <- factor(data$Sample, levels=unique(data$Sample))\n",
    "# plot\n",
    "ggplot(data, aes(x=log2(Abundance), y=log2_ads, color=tooth_type)) + \n",
    "    geom_point() + \n",
    "    theme_minimal() + \n",
    "    geom_smooth(method=lm, se=FALSE, fullrange=TRUE) +\n",
    "    geom_rug()\n",
    "geom_rug(sides =\"bl\")"
   ]
  },
  {
   "cell_type": "code",
   "execution_count": null,
   "id": "98ff8667",
   "metadata": {},
   "outputs": [],
   "source": [
    "# proportion of different types of strep in pd vs pf\n",
    "strep <- subset_taxa(ps.dat, V9==\"Streptococcus_anginosus_group\") # includes both constellatus and aginosus\n",
    "glom <- tax_glom(strep, taxrank=rank_names(strep)[8])\n",
    "data <- psmelt(glom) # create dataframe from phyloseq object\n",
    "data$Sample <- factor(data$Sample, levels=unique(data$Sample))\n",
    "# plot\n",
    "ggplot(data, aes(x=log2(Abundance), y=log2_ads, color=tooth_type)) + \n",
    "    geom_point() + \n",
    "    theme_minimal() + \n",
    "    geom_smooth(method=lm, se=FALSE, fullrange=TRUE) +\n",
    "    geom_rug()\n",
    "geom_rug(sides =\"bl\")"
   ]
  },
  {
   "cell_type": "code",
   "execution_count": null,
   "id": "9985eea0",
   "metadata": {},
   "outputs": [],
   "source": [
    "strep <- subset_taxa(ps.dat, V8==\"Streptococcus\")\n",
    "glom <- tax_glom(strep, taxrank=rank_names(strep)[8])\n",
    "# what is proportion of different strep species in pd vs pf?\n",
    "taxbargrp <- plot_bar(glom, \"V9\", fill=\"V9\", facet_grid=\"caries_status\") + geom_bar(aes(color=V9, fill=V9), stat=\"identity\", position=\"stack\")\n",
    "taxbargrp + theme_minimal() + theme(axis.text.x = element_text(angle = 90, vjust = 0.5, hjust=1))\n",
    "\n",
    "tax_table(subset_taxa(ps.dat, V10==\"Streptococcus_constellatus\"))"
   ]
  },
  {
   "cell_type": "code",
   "execution_count": null,
   "id": "65570a01",
   "metadata": {},
   "outputs": [],
   "source": [
    "strep <- subset_taxa(ps.dat, V9==\"Streptococcus_sanguinis\" | V9==\"Streptococcus_parasanguinis\" | V9==\"Streptococcus_oralis\" | V9==\"Limosilactobacillus_fermentum\" | V9==\"Leptotrichia_sp._oral_taxon_212\")\n",
    "glom <- tax_glom(strep, taxrank=rank_names(strep)[8])\n",
    "# what is proportion of species tagged in volcano plot in pd vs pf?\n",
    "taxbargrp <- plot_bar(glom, \"V9\", fill=\"V9\", facet_grid=\"tooth_type\") + geom_bar(aes(color=V9, fill=V9), stat=\"identity\", position=\"stack\")\n",
    "pdf(\"bar_matching_volcano_plot.pdf\")\n",
    "taxbargrp + theme_minimal() + theme(axis.text.x = element_text(angle = 90, vjust = 0.5, hjust=1))\n",
    "dev.off()\n",
    "taxbargrp + theme_minimal() + theme(axis.text.x = element_text(angle = 90, vjust = 0.5, hjust=1))"
   ]
  },
  {
   "cell_type": "code",
   "execution_count": null,
   "id": "6bfff829",
   "metadata": {
    "scrolled": false
   },
   "outputs": [],
   "source": [
    "# differential abundance data\n",
    "library(DESeq2)"
   ]
  },
  {
   "cell_type": "code",
   "execution_count": null,
   "id": "db8e00df",
   "metadata": {},
   "outputs": [],
   "source": [
    "sessionInfo()"
   ]
  },
  {
   "cell_type": "code",
   "execution_count": null,
   "id": "d722dfc0",
   "metadata": {},
   "outputs": [],
   "source": [
    "head(sample_data(ps.dat))"
   ]
  },
  {
   "cell_type": "code",
   "execution_count": null,
   "id": "dd8f58e6",
   "metadata": {},
   "outputs": [],
   "source": [
    "difabund <- phyloseq_to_deseq2(ps.dat, ~ tooth_type)\n",
    "\n",
    "gm_mean = function(x, na.rm=TRUE){\n",
    "  exp(sum(log(x[x > 0]), na.rm=na.rm) / length(x))\n",
    "}\n",
    "\n",
    "geoMeans <- apply(counts(difabund), 1, gm_mean)\n",
    "difabund <- estimateSizeFactors(difabund, geoMeans = geoMeans)\n",
    "res <- DESeq(difabund, fitType=\"local\")\n",
    "\n",
    "sigtab <- results(res)\n",
    "sigtab <- sigtab[order(sigtab$padj, na.last = NA),]\n",
    "sigtab <- sigtab[(sigtab$padj < 0.05),]\n",
    "sigtab <- cbind(as(sigtab, \"data.frame\"), as(tax_table(ps.dat)[rownames(sigtab),], \"matrix\"))\n",
    "sigtab\n"
   ]
  },
  {
   "cell_type": "code",
   "execution_count": null,
   "id": "eba4b510",
   "metadata": {},
   "outputs": [],
   "source": [
    "theme_set(theme_bw())\n",
    "scale_fill_discrete <- function(palname = \"Set1\", ...) {\n",
    "    scale_fill_brewer(palette = palname, ...)\n",
    "}\n",
    "# Phylum order\n",
    "x = tapply(sigtab$log2FoldChange, sigtab$V10, function(x) max(x))\n",
    "x = sort(x, TRUE)\n",
    "sigtab$V10 = factor(as.character(sigtab$V10), levels=names(x))\n",
    "# Genus order\n",
    "x = tapply(sigtab$log2FoldChange, sigtab$V10, function(x) max(x))\n",
    "x = sort(x, TRUE)\n",
    "sigtab$V10 = factor(as.character(sigtab$V10), levels=names(x))\n",
    "ggplot(sigtab, aes(x=V10, y=log2FoldChange, color=V8)) + geom_point(size=6) + \n",
    "  theme(axis.text.x = element_text(angle = -90, hjust = 0, vjust=0.5))\n",
    "pdf(\"diff_abundance.pdf\")\n",
    "ggplot(sigtab, aes(x=V10, y=log2FoldChange, color=V8)) + geom_point(size=6) + \n",
    "  theme(axis.text.x = element_text(angle = -90, hjust = 0, vjust=0.5))\n",
    "dev.off()"
   ]
  },
  {
   "cell_type": "code",
   "execution_count": null,
   "id": "09b56edf",
   "metadata": {},
   "outputs": [],
   "source": [
    "sigtab <- results(res)\n",
    "sigtab <- sigtab[order(sigtab$padj, na.last = NA),]\n",
    "sigtab <- sigtab[(sigtab$padj < 0.05),]\n",
    "sigtab <- cbind(as(sigtab, \"data.frame\"), as(tax_table(ps.dat)[rownames(sigtab),], \"matrix\"))\n",
    "sigtab"
   ]
  },
  {
   "cell_type": "code",
   "execution_count": null,
   "id": "da4a2095",
   "metadata": {},
   "outputs": [],
   "source": [
    "allres <- results(res, independentFiltering = FALSE)\n",
    "allres <- allres[order(allres$padj, na.last = NA),]\n",
    "allres <- cbind(as(allres, \"data.frame\"), as(tax_table(ps.dat)[rownames(allres),], \"matrix\"))\n",
    "write.table(allres, \"full_deseq_results.rpoc.txt\")"
   ]
  },
  {
   "cell_type": "code",
   "execution_count": null,
   "id": "5cbc4595",
   "metadata": {
    "scrolled": false
   },
   "outputs": [],
   "source": [
    "###### FIGURE 2: DESEQ FOR RPOC COLLAPSED AT SPECIES LEVEL\n",
    "# now need to summarize at species level, re run deseq\n",
    "# since there are all sorts of levels in the ncbi taxonomy, \n",
    "# first glom down to lower level, \n",
    "# save and summarize manually in excel, \n",
    "# re read in as sequence table to be made into phyloseq object\n",
    "glomtax <- tax_glom(ps.dat, taxrank=rank_names(ps.dat)[9]) # collapse \n",
    "glomtax\n",
    "# as.vector(tax_table(glomtax)[,9])\n",
    "write.table(otu_table(glomtax), \"collapsed_ASV_table.txt\", sep = \"\\t\", quote = F)\n",
    "write.table(tax_table(glomtax), \"collapsed_taxonomy_table.txt\", sep = \"\\t\", quote = F)"
   ]
  },
  {
   "cell_type": "code",
   "execution_count": null,
   "id": "42537bc5",
   "metadata": {},
   "outputs": [],
   "source": [
    "# read taxonomy and ASV table back in, make new phyloseq object\n",
    "seqtab <- read.table(\"collapsed_ASV_table_FIXED.txt\", header=T, row.names=1)\n",
    "tax <- read.table(\"collapsed_taxonomy_table_FIXED.txt\", header=F, row.names=1, sep=\"\\t\")\n",
    "ps.dat.sp <- phyloseq(otu_table(seqtab, taxa_are_rows=T), sample_data(map), tax_table(as.matrix(tax)), tree.root)\n",
    "ps.dat.sp"
   ]
  },
  {
   "cell_type": "code",
   "execution_count": null,
   "id": "31025b3d",
   "metadata": {},
   "outputs": [],
   "source": [
    "difabund <- phyloseq_to_deseq2(ps.dat.sp, ~ tooth_type)\n",
    "difabund\n",
    "geoMeans <- apply(counts(difabund), 1, gm_mean)\n",
    "difabund <- estimateSizeFactors(difabund, geoMeans = geoMeans)\n",
    "res <- DESeq(difabund, fitType=\"local\")\n",
    "\n",
    "sigtab <- results(res)\n",
    "sigtab <- sigtab[order(sigtab$padj, na.last = NA),]\n",
    "sigtab <- sigtab[(sigtab$padj < 0.05),]\n",
    "sigtab <- cbind(as(sigtab, \"data.frame\"), as(tax_table(ps.dat)[rownames(sigtab),], \"matrix\"))\n",
    "sigtab"
   ]
  },
  {
   "cell_type": "code",
   "execution_count": null,
   "id": "f991bbdf",
   "metadata": {},
   "outputs": [],
   "source": [
    "theme_set(theme_bw())\n",
    "scale_fill_discrete <- function(palname = \"Set1\", ...) {\n",
    "    scale_fill_brewer(palette = palname, ...)\n",
    "}\n",
    "# Phylum order\n",
    "x = tapply(sigtab$log2FoldChange, sigtab$V10, function(x) max(x))\n",
    "x = sort(x, TRUE)\n",
    "sigtab$V10 = factor(as.character(sigtab$V10), levels=names(x))\n",
    "# Genus order\n",
    "x = tapply(sigtab$log2FoldChange, sigtab$V10, function(x) max(x))\n",
    "x = sort(x, TRUE)\n",
    "sigtab$V10 = factor(as.character(sigtab$V10), levels=names(x))\n",
    "ggplot(sigtab, aes(x=V10, y=log2FoldChange, color=V8)) + geom_point(size=6) + \n",
    "  theme(axis.text.x = element_text(angle = -90, hjust = 0, vjust=0.5)) + theme(legend.position = \"none\")\n",
    "pdf(\"diff_abundance.taxglom.pdf\")\n",
    "ggplot(sigtab, aes(x=V10, y=log2FoldChange, color=V8)) + geom_point(size=6) + \n",
    "  theme(axis.text.x = element_text(angle = -90, hjust = 0, vjust=0.5))\n",
    "dev.off()"
   ]
  },
  {
   "cell_type": "code",
   "execution_count": null,
   "id": "5c0bbc56",
   "metadata": {},
   "outputs": [],
   "source": [
    "allres <- results(res, independentFiltering = FALSE)\n",
    "allres <- allres[order(allres$padj, na.last = NA),]\n",
    "allres <- cbind(as(allres, \"data.frame\"), as(tax_table(ps.dat)[rownames(allres),], \"matrix\"))\n",
    "write.table(allres, \"full_deseq_results.collapse_species_rpoc.txt\")"
   ]
  },
  {
   "cell_type": "code",
   "execution_count": null,
   "id": "9f2617ea",
   "metadata": {},
   "outputs": [],
   "source": [
    "# want to get fold changes per sample from deseq results\n",
    "mcols(mcols(res), use.names=TRUE)$description\n",
    "head(mcols(res))"
   ]
  },
  {
   "cell_type": "code",
   "execution_count": null,
   "id": "1ffdc210",
   "metadata": {},
   "outputs": [],
   "source": [
    "# log fold change figure and correlation\n",
    "lfc <- read.table(\"logFC_for_plot.txt\", header=T)\n",
    "# head(lfc)\n",
    "# reorder\n",
    "lfc$Taxon <- with(lfc, reorder(Taxon, lfc2, max))\n",
    "\n",
    "ggplot(lfc, aes(x=Taxon, y=lfc2, group=source)) + \n",
    "    geom_bar(stat=\"identity\", aes(fill=factor(source)), position=position_dodge(width=0.9)) +\n",
    "    coord_flip()\n",
    "\n",
    "pdf(\"log2FC_plot_DNA_v_RNA.pdf\")\n",
    "ggplot(lfc, aes(x=Taxon, y=lfc2, group=source)) + \n",
    "    geom_bar(stat=\"identity\", aes(fill=factor(source)), position=position_dodge(width=0.9)) +\n",
    "    coord_flip()\n",
    "dev.off()\n"
   ]
  },
  {
   "cell_type": "code",
   "execution_count": null,
   "id": "96b419d2",
   "metadata": {},
   "outputs": [],
   "source": [
    "# correlation between lot2 fold change\n",
    "temp <- reshape(lfc, idvar=\"Taxon\", timevar=\"source\", direction=\"wide\")\n",
    "\n",
    "ggplot(temp, aes(x=lfc2.DNA, y=lfc2.RNA)) + \n",
    "    geom_point(size = 4) + \n",
    "    theme_minimal() + \n",
    "    geom_smooth(method=lm, se=FALSE, fullrange=TRUE) \n",
    "\n",
    "pdf(\"dna_vs_rna_corplot.pdf\")\n",
    "ggplot(temp, aes(x=lfc2.DNA, y=lfc2.RNA)) + \n",
    "    geom_point(size = 4) + \n",
    "    theme_minimal() + \n",
    "    geom_smooth(method=lm, se=FALSE, fullrange=TRUE)\n",
    "dev.off()\n",
    "\n",
    "cor.test(temp$lfc2.DNA, temp$lfc2.RNA)"
   ]
  },
  {
   "cell_type": "code",
   "execution_count": null,
   "id": "a5f0c6d3",
   "metadata": {},
   "outputs": [],
   "source": [
    "# correlation with ADS activity (citrulline production) of specific species\n",
    "head(sample_data(ps.dat))"
   ]
  },
  {
   "cell_type": "code",
   "execution_count": null,
   "id": "9e16e877",
   "metadata": {
    "scrolled": false
   },
   "outputs": [],
   "source": [
    "# different taxa affect on citrulline production\n",
    "strep <- subset_taxa(ps.dat, V9==\"Streptococcus_sanguinis\") \n",
    "glom <- tax_glom(strep, taxrank=rank_names(strep)[8])\n",
    "data <- psmelt(glom) # create dataframe from phyloseq object\n",
    "data$Sample <- factor(data$Sample, levels=unique(data$Sample))\n",
    "# plot\n",
    "ggplot(data, aes(x=log2(Abundance), y=log2_ads, color=tooth_type)) + \n",
    "    geom_point(size = 4) + \n",
    "    theme_minimal() + \n",
    "    geom_smooth(method=lm, se=FALSE, fullrange=TRUE) +\n",
    "#     geom_rug(outside = TRUE, sides = \"tr\", linewidth = 10) +\n",
    "    coord_cartesian(clip = \"off\")\n",
    "\n",
    "pdf(\"correlation_citrulline_ssanguinis.pdf\")\n",
    "ggplot(data, aes(x=log2(Abundance), y=log2_ads, color=tooth_type)) + \n",
    "    geom_point(size = 4) + \n",
    "    theme_minimal() + \n",
    "    geom_smooth(method=lm, se=FALSE, fullrange=TRUE) +\n",
    "#     geom_rug(outside = TRUE, sides = \"tr\", linewidth = 10) +\n",
    "    coord_cartesian(clip = \"off\")\n",
    "dev.off()\n",
    "\n",
    "temp <- cbind(log2(data$Abundance), data$log2_ads)\n",
    "temp[is.na(temp) | temp==\"-Inf\"] <- NA\n",
    "temp <- as.data.frame(temp)\n",
    "summary(lm(V1~V2, data=temp))\n",
    "\n",
    "strep <- subset_taxa(ps.dat, V9==\"Leptotrichia_sp._oral_taxon_215\") \n",
    "glom <- tax_glom(strep, taxrank=rank_names(strep)[8])\n",
    "data <- psmelt(glom) # create dataframe from phyloseq object\n",
    "data$Sample <- factor(data$Sample, levels=unique(data$Sample))\n",
    "# plot\n",
    "ggplot(data, aes(x=log2(Abundance), y=log2_ads, color=tooth_type)) + \n",
    "    geom_point(size = 4) + \n",
    "    theme_minimal() + \n",
    "    geom_smooth(method=lm, se=FALSE, fullrange=TRUE) +\n",
    "#     geom_rug(outside = TRUE, sides = \"tr\", linewidth = 10) +\n",
    "    coord_cartesian(clip = \"off\")\n",
    "\n",
    "pdf(\"correlation_citrulline_lepto215.pdf\")\n",
    "ggplot(data, aes(x=log2(Abundance), y=log2_ads, color=tooth_type)) + \n",
    "    geom_point(size = 4) + \n",
    "    theme_minimal() + \n",
    "    geom_smooth(method=lm, se=FALSE, fullrange=TRUE) +\n",
    "#     geom_rug(outside = TRUE, sides = \"tr\", linewidth = 10) +\n",
    "    coord_cartesian(clip = \"off\")\n",
    "dev.off()\n",
    "\n",
    "strep <- subset_taxa(ps.dat, V9==\"Leptotrichia_sp._oral_taxon_212\") \n",
    "glom <- tax_glom(strep, taxrank=rank_names(strep)[8])\n",
    "data <- psmelt(glom) # create dataframe from phyloseq object\n",
    "data$Sample <- factor(data$Sample, levels=unique(data$Sample))\n",
    "# plot\n",
    "ggplot(data, aes(x=log2(Abundance), y=log2_ads, color=tooth_type)) + \n",
    "    geom_point(size = 4) + \n",
    "    theme_minimal() + \n",
    "    geom_smooth(method=lm, se=FALSE, fullrange=TRUE) +\n",
    "#     geom_rug(outside = TRUE, sides = \"tr\", linewidth = 10) +\n",
    "    coord_cartesian(clip = \"off\")\n",
    "\n",
    "pdf(\"correlation_citrulline_lepto212.pdf\")\n",
    "ggplot(data, aes(x=log2(Abundance), y=log2_ads, color=tooth_type)) + \n",
    "    geom_point(size = 4) + \n",
    "    theme_minimal() + \n",
    "    geom_smooth(method=lm, se=FALSE, fullrange=TRUE) +\n",
    "#     geom_rug(outside = TRUE, sides = \"tr\", linewidth = 10) +\n",
    "    coord_cartesian(clip = \"off\")\n",
    "dev.off()\n",
    "\n",
    "temp <- cbind(log2(data$Abundance), data$log2_ads)\n",
    "temp[is.na(temp) | temp==\"-Inf\"] <- NA\n",
    "temp <- as.data.frame(temp)\n",
    "summary(lm(V1~V2, data=temp))\n",
    "\n",
    "strep <- subset_taxa(ps.dat, V9==\"Streptococcus_mutans\") \n",
    "glom <- tax_glom(strep, taxrank=rank_names(strep)[8])\n",
    "data <- psmelt(glom) # create dataframe from phyloseq object\n",
    "data$Sample <- factor(data$Sample, levels=unique(data$Sample))\n",
    "# plot\n",
    "ggplot(data, aes(x=log2(Abundance), y=log2_ads, color=tooth_type)) + \n",
    "    geom_point(size = 4) + \n",
    "    theme_minimal() + \n",
    "    geom_smooth(method=lm, se=FALSE, fullrange=TRUE) +\n",
    "#     geom_rug(outside = TRUE, sides = \"tr\", linewidth = 10) +\n",
    "    coord_cartesian(clip = \"off\")\n",
    "\n",
    "pdf(\"correlation_citrulline_smutans.pdf\")\n",
    "ggplot(data, aes(x=log2(Abundance), y=log2_ads, color=tooth_type)) + \n",
    "    geom_point(size = 4) + \n",
    "    theme_minimal() + \n",
    "    geom_smooth(method=lm, se=FALSE, fullrange=TRUE) +\n",
    "#     geom_rug(outside = TRUE, sides = \"tr\", linewidth = 10) +\n",
    "    coord_cartesian(clip = \"off\")\n",
    "dev.off()\n",
    "\n",
    "temp <- cbind(log2(data$Abundance), data$log2_ads)\n",
    "temp[is.na(temp) | temp==\"-Inf\"] <- NA\n",
    "temp <- as.data.frame(temp)\n",
    "summary(lm(V1~V2, data=temp))\n",
    "\n",
    "strep <- subset_taxa(ps.dat, V9==\"Streptococcus_oralis\") \n",
    "glom <- tax_glom(strep, taxrank=rank_names(strep)[8])\n",
    "data <- psmelt(glom) # create dataframe from phyloseq object\n",
    "data$Sample <- factor(data$Sample, levels=unique(data$Sample))\n",
    "# plot\n",
    "ggplot(data, aes(x=log2(Abundance), y=log2_ads, color=tooth_type)) + \n",
    "    geom_point(size = 4) + \n",
    "    theme_minimal() + \n",
    "    geom_smooth(method=lm, se=FALSE, fullrange=TRUE) +\n",
    "#     geom_rug(outside = TRUE, sides = \"tr\", linewidth = 10) +\n",
    "    coord_cartesian(clip = \"off\")\n",
    "\n",
    "pdf(\"correlation_citrulline_soralis.pdf\")\n",
    "ggplot(data, aes(x=log2(Abundance), y=log2_ads, color=tooth_type)) + \n",
    "    geom_point(size = 4) + \n",
    "    theme_minimal() + \n",
    "    geom_smooth(method=lm, se=FALSE, fullrange=TRUE) +\n",
    "#     geom_rug(outside = TRUE, sides = \"tr\", linewidth = 10) +\n",
    "    coord_cartesian(clip = \"off\")\n",
    "dev.off()\n",
    "\n",
    "temp <- cbind(log2(data$Abundance), data$log2_ads)\n",
    "temp[is.na(temp) | temp==\"-Inf\"] <- NA\n",
    "temp <- as.data.frame(temp)\n",
    "summary(lm(V1~V2, data=temp))\n",
    "\n",
    "strep <- subset_taxa(ps.dat, V9==\"Streptococcus_parasanguinis\") \n",
    "glom <- tax_glom(strep, taxrank=rank_names(strep)[8])\n",
    "data <- psmelt(glom) # create dataframe from phyloseq object\n",
    "data$Sample <- factor(data$Sample, levels=unique(data$Sample))\n",
    "# plot\n",
    "ggplot(data, aes(x=log2(Abundance), y=log2_ads, color=tooth_type)) + \n",
    "    geom_point(size = 4) + \n",
    "    theme_minimal() + \n",
    "    geom_smooth(method=lm, se=FALSE, fullrange=TRUE) +\n",
    "#     geom_rug(outside = TRUE, sides = \"tr\", linewidth = 10) +\n",
    "    coord_cartesian(clip = \"off\")\n",
    "\n",
    "pdf(\"correlation_citrulline_sparasanguinis.pdf\")\n",
    "ggplot(data, aes(x=log2(Abundance), y=log2_ads, color=tooth_type)) + \n",
    "    geom_point(size = 4) + \n",
    "    theme_minimal() + \n",
    "    geom_smooth(method=lm, se=FALSE, fullrange=TRUE) +\n",
    "#     geom_rug(outside = TRUE, sides = \"tr\", linewidth = 10) +\n",
    "    coord_cartesian(clip = \"off\")\n",
    "dev.off()\n",
    "\n",
    "temp <- cbind(log2(data$Abundance), data$log2_ads)\n",
    "temp[is.na(temp) | temp==\"-Inf\"] <- NA\n",
    "temp <- as.data.frame(temp)\n",
    "summary(lm(V1~V2, data=temp))"
   ]
  },
  {
   "cell_type": "code",
   "execution_count": null,
   "id": "0aaaf85a",
   "metadata": {},
   "outputs": [],
   "source": [
    "# now need to get log abundance and count histograms for each of the ADS species in log fold change plot\n",
    "abct <- read.table(\"abundance_count.txt\", header=T)\n",
    "head(abct)"
   ]
  },
  {
   "cell_type": "code",
   "execution_count": null,
   "id": "48580249",
   "metadata": {},
   "outputs": [],
   "source": [
    "# reorder\n",
    "abct$Taxon <- with(abct, reorder(Taxon, order, max))\n",
    "# head(abct)\n",
    "ggplot(abct, aes(x=Taxon, y=log10_sum)) + \n",
    "    geom_bar(stat=\"identity\") +\n",
    "    coord_flip() + theme_minimal()\n",
    "\n",
    "pdf(\"abundance_barplot.pdf\")\n",
    "ggplot(abct, aes(x=Taxon, y=log10_sum)) + \n",
    "    geom_bar(stat=\"identity\") +\n",
    "    coord_flip() + theme_minimal()\n",
    "dev.off()\n",
    "\n",
    "ggplot(abct, aes(x=Taxon, y=Prop)) + \n",
    "    geom_bar(stat=\"identity\") +\n",
    "    coord_flip() + theme_minimal()\n",
    "\n",
    "pdf(\"proportion_barplot.pdf\")\n",
    "ggplot(abct, aes(x=Taxon, y=Prop)) + \n",
    "    geom_bar(stat=\"identity\") +\n",
    "    coord_flip() + theme_minimal()\n",
    "dev.off()"
   ]
  },
  {
   "cell_type": "code",
   "execution_count": null,
   "id": "157926ed",
   "metadata": {
    "scrolled": false
   },
   "outputs": [],
   "source": [
    "#smutans cat\n",
    "# rel.abund\n",
    "# head(sample_data(rel.abund))\n",
    "test <- subset_taxa(rel.abund, V9 == \"Streptococcus_oralis\" | V9 == \"Streptococcus_sanguinis\")\n",
    "p <- plot_bar(test, fill = \"V9\", facet_grid = Smutans_cat~tooth_type) + theme_minimal()\n",
    "p + geom_bar(aes(color=V9, fill=V9), stat=\"identity\", position=\"stack\")\n",
    "pdf(\"relabund_soralis_sanguinis_smutans_lohi_pdvspf.pdf\")\n",
    "p + geom_bar(aes(color=V9, fill=V9), stat=\"identity\", position=\"stack\")\n",
    "dev.off()"
   ]
  },
  {
   "cell_type": "code",
   "execution_count": null,
   "id": "36725a8b",
   "metadata": {},
   "outputs": [],
   "source": []
  }
 ],
 "metadata": {
  "kernelspec": {
   "display_name": "R",
   "language": "R",
   "name": "ir"
  },
  "language_info": {
   "codemirror_mode": "r",
   "file_extension": ".r",
   "mimetype": "text/x-r-source",
   "name": "R",
   "pygments_lexer": "r",
   "version": "4.1.0"
  }
 },
 "nbformat": 4,
 "nbformat_minor": 5
}
