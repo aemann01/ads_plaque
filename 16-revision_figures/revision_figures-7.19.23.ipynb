{
 "cells": [
  {
   "cell_type": "code",
   "execution_count": null,
   "id": "f3b696fc",
   "metadata": {},
   "outputs": [
    {
     "name": "stderr",
     "output_type": "stream",
     "text": [
      "'getOption(\"repos\")' replaces Bioconductor standard repositories, see\n",
      "'help(\"repositories\", package = \"BiocManager\")' for details.\n",
      "Replacement repositories:\n",
      "    CRAN: https://cran.r-project.org\n",
      "\n",
      "Bioconductor version 3.14 (BiocManager 1.30.20), R 4.1.0 (2021-05-18)\n",
      "\n",
      "Installing package(s) 'phyloseq'\n",
      "\n",
      "also installing the dependencies ‘bitops’, ‘Rhdf5lib’, ‘rhdf5filters’, ‘zlibbioc’, ‘RCurl’, ‘stringi’, ‘colorspace’, ‘MASS’, ‘sp’, ‘Rcpp’, ‘RcppArmadillo’, ‘nlme’, ‘lattice’, ‘Matrix’, ‘rhdf5’, ‘S4Vectors’, ‘IRanges’, ‘XVector’, ‘GenomeInfoDb’, ‘isoband’, ‘mgcv’, ‘tibble’, ‘magrittr’, ‘survival’, ‘stringr’, ‘farver’, ‘munsell’, ‘ade4’, ‘ape’, ‘Biobase’, ‘biomformat’, ‘Biostrings’, ‘cluster’, ‘data.table’, ‘ggplot2’, ‘igraph’, ‘multtest’, ‘plyr’, ‘reshape2’, ‘scales’, ‘vegan’\n",
      "\n",
      "\n"
     ]
    }
   ],
   "source": [
    "install.packages(\"remotes\")\n",
    "remotes::install_github(\"mahendra-mariadassou/phyloseq-extended\", ref = \"dev\")\n",
    "BiocManager::install(\"phyloseq\")\n",
    "install.packages(\"phytools\")\n",
    "library(phyloseq)\n",
    "library(phytools)\n",
    "library(phyloseq.extended)\n",
    "library(ggplot2)"
   ]
  },
  {
   "cell_type": "code",
   "execution_count": 1,
   "id": "0eddfb82",
   "metadata": {},
   "outputs": [
    {
     "name": "stderr",
     "output_type": "stream",
     "text": [
      "Warning message in file(file, \"rt\"):\n",
      "“cannot open file '../05-rpoC_processing/sequence_table.merged.txt': No such file or directory”\n"
     ]
    },
    {
     "ename": "ERROR",
     "evalue": "Error in file(file, \"rt\"): cannot open the connection\n",
     "output_type": "error",
     "traceback": [
      "Error in file(file, \"rt\"): cannot open the connection\nTraceback:\n",
      "1. read.table(\"../05-rpoC_processing/sequence_table.merged.txt\", \n .     header = T, row.names = 1)",
      "2. file(file, \"rt\")"
     ]
    }
   ],
   "source": [
    "# load data running on hillary\n",
    "seqtab <- read.table(\"../05-rpoC_processing/sequence_table.merged.txt\", header=T, row.names=1)\n",
    "tax <- read.table(\"../05-rpoC_processing/taxonomy_bac.txt\", header=F, row.names=1, sep=\"\\t\")\n",
    "tree <- read.tree(\"../05-rpoC_processing/RAxML_bestTree.ref.tre\")\n",
    "tree.root <- midpoint.root(tree)\n",
    "map <- read.table(\"../04-differential_abundance/map.txt\", sep=\"\\t\", header=T, row.names=1)\n",
    "# create phyloseq object\n",
    "ps.dat <- phyloseq(otu_table(seqtab, taxa_are_rows=F), sample_data(map), tax_table(as.matrix(tax)), tree.root)\n",
    "ps.dat\n",
    "head(sample_data(ps.dat))"
   ]
  },
  {
   "cell_type": "code",
   "execution_count": null,
   "id": "fbc3d276",
   "metadata": {},
   "outputs": [],
   "source": [
    "# rarefaction curve analysis\n",
    "p <- ggrare(ps.dat, step = 1000, se = TRUE)\n",
    "p + theme_minimal()\n",
    "pdf(\"rarefaction_plots.pdf\")\n",
    "p + theme_minimal()\n",
    "dev.off()"
   ]
  }
 ],
 "metadata": {
  "kernelspec": {
   "display_name": "R",
   "language": "R",
   "name": "ir"
  },
  "language_info": {
   "codemirror_mode": "r",
   "file_extension": ".r",
   "mimetype": "text/x-r-source",
   "name": "R",
   "pygments_lexer": "r",
   "version": "4.1.0"
  }
 },
 "nbformat": 4,
 "nbformat_minor": 5
}
